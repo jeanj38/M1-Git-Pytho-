{
  "nbformat": 4,
  "nbformat_minor": 0,
  "metadata": {
    "colab": {
      "name": "Copie de Untitled12.ipynb",
      "provenance": [],
      "collapsed_sections": []
    },
    "kernelspec": {
      "name": "python3",
      "display_name": "Python 3"
    },
    "language_info": {
      "name": "python"
    }
  },
  "cells": [
    {
      "cell_type": "markdown",
      "source": [
        "# Implémentation de la fonction polynomiale "
      ],
      "metadata": {
        "id": "EpPAr2mQmAaS"
      }
    },
    {
      "cell_type": "code",
      "execution_count": 2,
      "metadata": {
        "id": "H_rgRPj3aL7_"
      },
      "outputs": [],
      "source": [
        "import math \n",
        " \n",
        "def polynome(x): # Création de la fonction polynamiale \n",
        "  \n",
        "  if (type(x) == str) : # Vérifie que l'utilisateur que l'utilisateur saisi une chaine de caractère\n",
        "    print(\"Les chaines de caractère ne sont pas pris en compte\")\n",
        "    print(\"Veuillez saisir un entier pour x\") # dis à l'utilisateur de saisir une nouvelle valeur pour x\n",
        "    x = int(input()) # saisi de la valeur de x\n",
        "\n",
        "  elif (x < 0) : # Vérifie que l'utilisateur que l'utilisateur saisi une chaine de caractère\n",
        "    print(\"Les entiers négatifs ne sont pas pris en compte\")\n",
        "    print(\"Veuillez saisir un entier pour x\") # dis à l'utilisateur de saisir une nouvelle valeur pour x\n",
        "    x = int(input()) # saisi de la valeur de x\n",
        "  \n",
        "  elif (type(x) == complex) : # Vérifie que l'utilisateur que l'utilisateur saisi une chaine de caractère\n",
        "    print(\"Les nombres complexes ne sont pas pris en compte\")\n",
        "    print(\"Veuillez saisir un entier pour x\") # dis à l'utilisateur de saisir une nouvelle valeur pour x\n",
        "    x = int(input()) # saisi de la valeur de x\n",
        "  \n",
        "  elif (len(str(x)) > 10) : \n",
        "    print(\"L'entier saisi est trop grand\")\n",
        "    print(\"Veuillez saisir un entier inférieur à 10 caractères\") # dis à l'utilisateur de saisir un entier plus petit \n",
        "    x = int(input()) # saisi de la valeur de x\n",
        "\n",
        "  elif (x < 0.01) : \n",
        "    print(\"L'entier saisi est trop petit\")\n",
        "    print(\"Veuillez saisir un entier supérieur a 0.01\") # dis à l'utilisateur de saisir un entier plus petit \n",
        "    x = int(input()) # saisi de la valeur de x\n",
        "  \n",
        "  y = x**3 - (1.5)*x**2 - 6*x + 5 # Calcul la fonction polynomiale x^3 - 1.5x^2 - 6x +5\n",
        "  \n",
        "  return y # retourne y\n"
      ]
    },
    {
      "cell_type": "code",
      "source": [
        "polynome(5)"
      ],
      "metadata": {
        "colab": {
          "base_uri": "https://localhost:8080/"
        },
        "id": "2G0PtSW8cB85",
        "outputId": "46a9f0d7-2db4-4bc5-b6f3-dea64a62355c"
      },
      "execution_count": 3,
      "outputs": [
        {
          "output_type": "execute_result",
          "data": {
            "text/plain": [
              "62.5"
            ]
          },
          "metadata": {},
          "execution_count": 3
        }
      ]
    },
    {
      "cell_type": "markdown",
      "source": [
        "Implémentation de la fonction factorielle \n"
      ],
      "metadata": {
        "id": "ObCi8h05mNDw"
      }
    },
    {
      "cell_type": "code",
      "source": [
        "def factorial(n): # Création de la fonciton factorielle\n",
        "  if (len(str(n)) > 7): # Vérifie que n est une chaine de caractère\n",
        "    print(\"L'entier saisi est trop grand\")\n",
        "    print(\"Veuillez saisir un entier positif inférieur a 7 caractères\")\n",
        "    n = int(input()) # saisi de la valeur de x\n",
        "  \n",
        "  elif (n < 0):  # vérifie que n est un négatif \n",
        "    print(\"Les entiers négatifs ne sont pas en pris en compte\")\n",
        "    print(\"veuillez saisir un entier positif\")\n",
        "    n = int(input()) # saisi de la valeur de x   \n",
        "    \n",
        "  elif (type(n) == str):  # vérifie que n est une chaine de caractère \n",
        "    print(\"Les chaines de caractère ne sont pas pris en compte\")\n",
        "    print(\"veuillez saisir un entier positif\")\n",
        "    n = int(input()) # saisi de la valeur de x \n",
        "    \n",
        "  elif (type(n) == complex): # vérifie que n est un complexe\n",
        "    print(\"Les nombres complexes ne sont pas pris en compte\")\n",
        "    print(\"veuillez saisir un entier positif\")\n",
        "    n = int(input()) # saisi de la valeur de x\n",
        "    \n",
        "  elif (n == float) : # Vérifie que n est un flottant\n",
        "    print(\"Les nombres à virgules ne sont pas pris en compte\")\n",
        "    print(\"Veuillez saisir un entier supérieur à 0\")\n",
        "    x = int(input()) # saisi de la valeur de x\n",
        "  \n",
        "  \n",
        "  if n == 0: \n",
        "    return 1 # retourne 1 lorque n = 0\n",
        "    \n",
        "  else: \n",
        "    \n",
        "    fact = 1\n",
        "    while(n > 1): # vérifie que la valaur saisie est différente de 1\n",
        "      fact *= n \n",
        "      n -= 1\n",
        "    return fact # renvoie le factorielle de n  \n",
        "\n",
        "\n"
      ],
      "metadata": {
        "id": "KerjWxepcQpC"
      },
      "execution_count": null,
      "outputs": []
    },
    {
      "cell_type": "code",
      "source": [
        "factorial(5)\n"
      ],
      "metadata": {
        "colab": {
          "base_uri": "https://localhost:8080/"
        },
        "id": "9kG3GixhxUqu",
        "outputId": "186d5742-9553-41ba-d0d3-0c37489b64b4"
      },
      "execution_count": null,
      "outputs": [
        {
          "output_type": "execute_result",
          "data": {
            "text/plain": [
              "120"
            ]
          },
          "metadata": {},
          "execution_count": 102
        }
      ]
    },
    {
      "cell_type": "markdown",
      "source": [
        "Implémentation de la suite de fibonacci"
      ],
      "metadata": {
        "id": "19HtgFSF15Oc"
      }
    },
    {
      "cell_type": "code",
      "source": [
        "nterms = int(input(\"Entrez un nombre: \"))\n",
        " \n",
        "n1 = 0\n",
        "n2 = 1\n",
        " \n",
        "print(\"\\n la suite fibonacci est :\")\n",
        "print(n1, \",\", n2, end=\", \")\n",
        " \n",
        "for i in range(2, nterms):\n",
        "  suivant = n1 + n2\n",
        "  print(suivant, end=\", \")\n",
        " \n",
        "  n1 = n2\n",
        "  n2 = suivant"
      ],
      "metadata": {
        "colab": {
          "base_uri": "https://localhost:8080/"
        },
        "id": "PajZ5XT90eBG",
        "outputId": "90f6881b-6b0e-4d89-88b8-7684103e9b6b"
      },
      "execution_count": null,
      "outputs": [
        {
          "output_type": "stream",
          "name": "stdout",
          "text": [
            "Entrez un nombre: 6\n",
            "\n",
            " la suite fibonacci est :\n",
            "0 , 1, 1, 2, 3, 5, "
          ]
        }
      ]
    },
    {
      "cell_type": "code",
      "source": [
        ""
      ],
      "metadata": {
        "id": "ZCyqw9Dc5fJN"
      },
      "execution_count": null,
      "outputs": []
    }
  ]
}